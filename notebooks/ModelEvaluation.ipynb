{
 "cells": [
  {
   "attachments": {},
   "cell_type": "markdown",
   "metadata": {},
   "source": [
    "**Evaluating the machine Learning Models**"
   ]
  },
  {
   "cell_type": "code",
   "execution_count": 13,
   "metadata": {},
   "outputs": [],
   "source": [
    "#import required packages\n",
    "\n",
    "import json\n",
    "import pickle\n",
    "import numpy as np\n",
    "import pandas as pd\n",
    "import scikitplot as skplt\n",
    "import matplotlib.pyplot as plt\n",
    "from sklearn.model_selection import cross_val_predict\n",
    "from sklearn.model_selection import learning_curve\n",
    "from sklearn.model_selection import train_test_split"
   ]
  },
  {
   "cell_type": "code",
   "execution_count": 14,
   "metadata": {},
   "outputs": [],
   "source": [
    "df = pd.read_csv('~/finalproject/LHL-finalproject/preprocessed_data/dataencoded.csv')"
   ]
  },
  {
   "cell_type": "code",
   "execution_count": 15,
   "metadata": {},
   "outputs": [],
   "source": [
    "# input features, output result and train, test split\n",
    "X = df.loc[:, df.columns != 'final_result']\n",
    "y = df['final_result']\n",
    "X_Train, X_Test, y_Train, y_Test = train_test_split(X, y,train_size = 0.75)"
   ]
  },
  {
   "cell_type": "code",
   "execution_count": 20,
   "metadata": {},
   "outputs": [],
   "source": [
    "import pickle\n",
    "\n",
    "def load_saved_model(model_type):\n",
    "    if model_type == 'decision_tree':\n",
    "        filename = 'models/decision_tree_model.pkl'\n",
    "    elif model_type == 'random_forest':\n",
    "        filename = 'models/random_forest_model.pkl'\n",
    "    elif model_type == 'gradient_boosting':\n",
    "        filename = 'models/gradient_boosting_model.pkl'\n",
    "    elif model_type == 'svm':\n",
    "        filename = 'models/svm_model.pkl'\n",
    "    else:\n",
    "        raise ValueError(\"Invalid model_type. Choose from 'decision_tree', 'random_forest', 'gradient_boosting', or 'svm'.\")\n",
    "\n",
    "    with open(filename, 'rb') as model_file:\n",
    "        loaded_model = pickle.load(model_file)\n",
    "    return loaded_model"
   ]
  },
  {
   "cell_type": "code",
   "execution_count": 17,
   "metadata": {},
   "outputs": [],
   "source": [
    "# Function to plot accuracy\n",
    "\n",
    "def plot_accuracy(model):\n",
    "    train_sizes, train_scores, test_scores = learning_curve(model, X_Train, y_Train, n_jobs=-1,\n",
    "                                                            train_sizes=np.linspace(.1, 1.0, 5), verbose=0)\n",
    "\n",
    "    train_mean = np.mean(train_scores, axis=1)\n",
    "    train_std = np.std(train_scores, axis=1)\n",
    "    test_mean = np.mean(test_scores, axis=1)\n",
    "    test_std = np.std(test_scores, axis=1)\n",
    "\n",
    "    plt.figure()\n",
    "    plt.gca().invert_yaxis()\n",
    "    plt.grid()\n",
    "    plt.ylim(0.0, 1.1)\n",
    "    plt.title(\"Accuracy Plot\")\n",
    "    plt.xlabel(\"Testing\")\n",
    "    plt.ylabel(\"Accuracy %\")\n",
    "\n",
    "    plt.fill_between(train_sizes, test_mean - test_std, test_mean + test_std, alpha=0.1)\n",
    "    plt.plot(train_sizes, test_mean, 'bo-', color=\"r\", label=\"Test Score\")\n",
    "    return plt"
   ]
  },
  {
   "cell_type": "code",
   "execution_count": 21,
   "metadata": {},
   "outputs": [
    {
     "ename": "FileNotFoundError",
     "evalue": "[Errno 2] No such file or directory: 'models/decision_tree_model.pkl'",
     "output_type": "error",
     "traceback": [
      "\u001b[0;31m---------------------------------------------------------------------------\u001b[0m",
      "\u001b[0;31mFileNotFoundError\u001b[0m                         Traceback (most recent call last)",
      "Cell \u001b[0;32mIn[21], line 2\u001b[0m\n\u001b[1;32m      1\u001b[0m \u001b[39m# Load the models\u001b[39;00m\n\u001b[0;32m----> 2\u001b[0m loaded_dt \u001b[39m=\u001b[39m load_saved_model(\u001b[39m'\u001b[39;49m\u001b[39mdecision_tree\u001b[39;49m\u001b[39m'\u001b[39;49m)\n\u001b[1;32m      3\u001b[0m loaded_rf \u001b[39m=\u001b[39m load_saved_model(\u001b[39m'\u001b[39m\u001b[39mrandom_forest\u001b[39m\u001b[39m'\u001b[39m)\n\u001b[1;32m      4\u001b[0m loaded_gb \u001b[39m=\u001b[39m load_saved_model(\u001b[39m'\u001b[39m\u001b[39mgradient_boosting\u001b[39m\u001b[39m'\u001b[39m)\n",
      "Cell \u001b[0;32mIn[20], line 15\u001b[0m, in \u001b[0;36mload_saved_model\u001b[0;34m(model_type)\u001b[0m\n\u001b[1;32m     12\u001b[0m \u001b[39melse\u001b[39;00m:\n\u001b[1;32m     13\u001b[0m     \u001b[39mraise\u001b[39;00m \u001b[39mValueError\u001b[39;00m(\u001b[39m\"\u001b[39m\u001b[39mInvalid model_type. Choose from \u001b[39m\u001b[39m'\u001b[39m\u001b[39mdecision_tree\u001b[39m\u001b[39m'\u001b[39m\u001b[39m, \u001b[39m\u001b[39m'\u001b[39m\u001b[39mrandom_forest\u001b[39m\u001b[39m'\u001b[39m\u001b[39m, \u001b[39m\u001b[39m'\u001b[39m\u001b[39mgradient_boosting\u001b[39m\u001b[39m'\u001b[39m\u001b[39m, or \u001b[39m\u001b[39m'\u001b[39m\u001b[39msvm\u001b[39m\u001b[39m'\u001b[39m\u001b[39m.\u001b[39m\u001b[39m\"\u001b[39m)\n\u001b[0;32m---> 15\u001b[0m \u001b[39mwith\u001b[39;00m \u001b[39mopen\u001b[39;49m(filename, \u001b[39m'\u001b[39;49m\u001b[39mrb\u001b[39;49m\u001b[39m'\u001b[39;49m) \u001b[39mas\u001b[39;00m model_file:\n\u001b[1;32m     16\u001b[0m     loaded_model \u001b[39m=\u001b[39m pickle\u001b[39m.\u001b[39mload(model_file)\n\u001b[1;32m     17\u001b[0m \u001b[39mreturn\u001b[39;00m loaded_model\n",
      "File \u001b[0;32m~/finalproject/penv/lib/python3.10/site-packages/IPython/core/interactiveshell.py:284\u001b[0m, in \u001b[0;36m_modified_open\u001b[0;34m(file, *args, **kwargs)\u001b[0m\n\u001b[1;32m    277\u001b[0m \u001b[39mif\u001b[39;00m file \u001b[39min\u001b[39;00m {\u001b[39m0\u001b[39m, \u001b[39m1\u001b[39m, \u001b[39m2\u001b[39m}:\n\u001b[1;32m    278\u001b[0m     \u001b[39mraise\u001b[39;00m \u001b[39mValueError\u001b[39;00m(\n\u001b[1;32m    279\u001b[0m         \u001b[39mf\u001b[39m\u001b[39m\"\u001b[39m\u001b[39mIPython won\u001b[39m\u001b[39m'\u001b[39m\u001b[39mt let you open fd=\u001b[39m\u001b[39m{\u001b[39;00mfile\u001b[39m}\u001b[39;00m\u001b[39m by default \u001b[39m\u001b[39m\"\u001b[39m\n\u001b[1;32m    280\u001b[0m         \u001b[39m\"\u001b[39m\u001b[39mas it is likely to crash IPython. If you know what you are doing, \u001b[39m\u001b[39m\"\u001b[39m\n\u001b[1;32m    281\u001b[0m         \u001b[39m\"\u001b[39m\u001b[39myou can use builtins\u001b[39m\u001b[39m'\u001b[39m\u001b[39m open.\u001b[39m\u001b[39m\"\u001b[39m\n\u001b[1;32m    282\u001b[0m     )\n\u001b[0;32m--> 284\u001b[0m \u001b[39mreturn\u001b[39;00m io_open(file, \u001b[39m*\u001b[39;49margs, \u001b[39m*\u001b[39;49m\u001b[39m*\u001b[39;49mkwargs)\n",
      "\u001b[0;31mFileNotFoundError\u001b[0m: [Errno 2] No such file or directory: 'models/decision_tree_model.pkl'"
     ]
    }
   ],
   "source": [
    "# Load the models\n",
    "loaded_dt = load_saved_model('decision_tree')\n",
    "loaded_rf = load_saved_model('random_forest')\n",
    "loaded_gb = load_saved_model('gradient_boosting')\n",
    "loaded_svm = load_saved_model('svm')\n",
    "\n",
    "# Evaluate each model and plot accuracy\n",
    "plot_accuracy(loaded_dt)\n",
    "plot_accuracy(loaded_rf)\n",
    "plot_accuracy(loaded_gb)\n",
    "plot_accuracy(loaded_svm)\n",
    "\n",
    "# Show the plots\n",
    "plt.show()\n"
   ]
  },
  {
   "cell_type": "code",
   "execution_count": null,
   "metadata": {},
   "outputs": [],
   "source": [
    "# decision tree\n",
    "dt = load_saved_model('decision_tree')\n",
    "plt = plot_accuracy('decision_tree')"
   ]
  }
 ],
 "metadata": {
  "kernelspec": {
   "display_name": "penv",
   "language": "python",
   "name": "python3"
  },
  "language_info": {
   "codemirror_mode": {
    "name": "ipython",
    "version": 3
   },
   "file_extension": ".py",
   "mimetype": "text/x-python",
   "name": "python",
   "nbconvert_exporter": "python",
   "pygments_lexer": "ipython3",
   "version": "3.10.10"
  },
  "orig_nbformat": 4
 },
 "nbformat": 4,
 "nbformat_minor": 2
}
