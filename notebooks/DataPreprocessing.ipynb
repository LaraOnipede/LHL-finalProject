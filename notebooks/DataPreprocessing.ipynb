{
 "cells": [
  {
   "cell_type": "code",
   "execution_count": 50,
   "metadata": {},
   "outputs": [],
   "source": [
    "#import required Libraries\n",
    "import numpy as np\n",
    "import pandas as pd \n",
    "import matplotlib.pyplot as plt\n",
    "from matplotlib.gridspec import GridSpec\n",
    "import missingno as msno\n",
    "from plotnine import *\n",
    "import seaborn as sns\n",
    "import warnings\n",
    "warnings.filterwarnings('ignore')"
   ]
  },
  {
   "attachments": {},
   "cell_type": "markdown",
   "metadata": {},
   "source": [
    "**DATA CLEANING**"
   ]
  },
  {
   "attachments": {},
   "cell_type": "markdown",
   "metadata": {},
   "source": [
    "**Checking for Missing Values in all files**"
   ]
  },
  {
   "cell_type": "code",
   "execution_count": 51,
   "metadata": {},
   "outputs": [],
   "source": [
    "#Load datasets\n",
    "courses = pd.read_csv('~/finalproject/LHL-finalproject/datasets/courses.csv')\n",
    "assessments = pd.read_csv('~/finalproject/LHL-finalproject/datasets/assessments.csv')\n",
    "studentinfo = pd.read_csv('~/finalproject/LHL-finalproject/datasets/studentInfo.csv')\n",
    "studentRegistration = pd.read_csv('~/finalproject/LHL-finalproject/datasets/studentRegistration.csv')\n",
    "studentAssessment = pd.read_csv('~/finalproject/LHL-finalproject/datasets/studentAssessment.csv')\n",
    "\n",
    "#Large files, couldn't be loaded to git\n",
    "studentVle = pd.read_csv('~/finalproject/LHL-finalproject/datasets/studentvle.csv', nrows=999999)\n",
    "vle = pd.read_csv('~/finalproject/LHL-finalproject/datasets/vle.csv')"
   ]
  },
  {
   "attachments": {},
   "cell_type": "markdown",
   "metadata": {},
   "source": [
    "**HANDLING MISSING VALUES**"
   ]
  },
  {
   "attachments": {},
   "cell_type": "markdown",
   "metadata": {},
   "source": [
    "**Courses data file**"
   ]
  },
  {
   "cell_type": "code",
   "execution_count": 52,
   "metadata": {},
   "outputs": [
    {
     "name": "stdout",
     "output_type": "stream",
     "text": [
      "<class 'pandas.core.frame.DataFrame'>\n",
      "RangeIndex: 22 entries, 0 to 21\n",
      "Data columns (total 3 columns):\n",
      " #   Column                      Non-Null Count  Dtype \n",
      "---  ------                      --------------  ----- \n",
      " 0   code_module                 22 non-null     object\n",
      " 1   code_presentation           22 non-null     object\n",
      " 2   module_presentation_length  22 non-null     int64 \n",
      "dtypes: int64(1), object(2)\n",
      "memory usage: 656.0+ bytes\n"
     ]
    }
   ],
   "source": [
    "courses.info()"
   ]
  },
  {
   "cell_type": "code",
   "execution_count": 53,
   "metadata": {},
   "outputs": [
    {
     "name": "stdout",
     "output_type": "stream",
     "text": [
      "code_module                   0\n",
      "code_presentation             0\n",
      "module_presentation_length    0\n",
      "dtype: int64\n"
     ]
    }
   ],
   "source": [
    "# Check for missing values\n",
    "missing_values = courses.isnull().sum()\n",
    "print(missing_values)"
   ]
  },
  {
   "attachments": {},
   "cell_type": "markdown",
   "metadata": {},
   "source": [
    "There are no missing values in courses "
   ]
  },
  {
   "attachments": {},
   "cell_type": "markdown",
   "metadata": {},
   "source": [
    "**Asessments data file**"
   ]
  },
  {
   "cell_type": "code",
   "execution_count": 54,
   "metadata": {},
   "outputs": [],
   "source": [
    "assessments.replace(0.0, pd.NA, inplace=True)"
   ]
  },
  {
   "cell_type": "code",
   "execution_count": 55,
   "metadata": {},
   "outputs": [],
   "source": [
    "assessments.replace('?', pd.NA, inplace=True)"
   ]
  },
  {
   "cell_type": "code",
   "execution_count": 56,
   "metadata": {},
   "outputs": [
    {
     "name": "stdout",
     "output_type": "stream",
     "text": [
      "    code_module code_presentation  id_assessment assessment_type  date weight\n",
      "15          BBB             2013B          14994             CMA   159    1.0\n",
      "9           AAA             2014J           1761             TMA   166   20.0\n",
      "201         GGG             2014J          37443             CMA   229   <NA>\n",
      "82          DDD             2013B          25335             TMA    53   10.0\n",
      "68          CCC             2014J          24291             TMA    32    9.0\n",
      "97          DDD             2014B          25357             TMA    74   17.5\n",
      "180         GGG             2013J          37422             CMA   229   <NA>\n",
      "163         FFF             2014J          34904             CMA   241   <NA>\n",
      "148         FFF             2013J          34877             TMA   173   25.0\n",
      "183         GGG             2013J          37416             TMA   124   <NA>\n",
      "101         DDD             2014B          25361            Exam   241  100.0\n",
      "165         FFF             2014J          34906             CMA   241   <NA>\n",
      "65          CCC             2014J          24296             CMA    67    7.0\n",
      "176         GGG             2013J          37418             CMA   229   <NA>\n",
      "73          CCC             2014J          40088            Exam  <NA>  100.0\n",
      "93          DDD             2013J          25353             TMA   207   20.0\n",
      "18          BBB             2013B          14985             TMA    47   18.0\n",
      "154         FFF             2014B          34895             CMA   227   <NA>\n",
      "137         FFF             2013J          34878             CMA   236   <NA>\n",
      "166         FFF             2014J          34907             CMA   241   <NA>\n"
     ]
    }
   ],
   "source": [
    "#get a random sample of assessments to confirm presence of strange values\n",
    "random_sample = assessments.sample(n=20, random_state=42)  \n",
    "print(random_sample)\n"
   ]
  },
  {
   "attachments": {},
   "cell_type": "markdown",
   "metadata": {},
   "source": [
    "Seems strange values like '?' have been taken care of"
   ]
  },
  {
   "cell_type": "code",
   "execution_count": 57,
   "metadata": {},
   "outputs": [
    {
     "name": "stdout",
     "output_type": "stream",
     "text": [
      "code_module           0\n",
      "code_presentation     0\n",
      "id_assessment         0\n",
      "assessment_type       0\n",
      "date                 11\n",
      "weight               56\n",
      "dtype: int64\n"
     ]
    }
   ],
   "source": [
    "# Check for missing values\n",
    "missing_values = assessments.isnull().sum()\n",
    "print(missing_values)"
   ]
  },
  {
   "cell_type": "code",
   "execution_count": 58,
   "metadata": {},
   "outputs": [
    {
     "name": "stdout",
     "output_type": "stream",
     "text": [
      "<class 'pandas.core.frame.DataFrame'>\n",
      "RangeIndex: 206 entries, 0 to 205\n",
      "Data columns (total 6 columns):\n",
      " #   Column             Non-Null Count  Dtype \n",
      "---  ------             --------------  ----- \n",
      " 0   code_module        206 non-null    object\n",
      " 1   code_presentation  206 non-null    object\n",
      " 2   id_assessment      206 non-null    int64 \n",
      " 3   assessment_type    206 non-null    object\n",
      " 4   date               195 non-null    object\n",
      " 5   weight             150 non-null    object\n",
      "dtypes: int64(1), object(5)\n",
      "memory usage: 9.8+ KB\n"
     ]
    }
   ],
   "source": [
    "assessments.info()"
   ]
  },
  {
   "attachments": {},
   "cell_type": "markdown",
   "metadata": {},
   "source": [
    "11 Final exams dates are missing\n",
    "some courses have weights missing for assignments"
   ]
  },
  {
   "cell_type": "markdown",
   "metadata": {},
   "source": []
  },
  {
   "attachments": {},
   "cell_type": "markdown",
   "metadata": {},
   "source": [
    "**Student Assessment**"
   ]
  },
  {
   "cell_type": "code",
   "execution_count": 59,
   "metadata": {},
   "outputs": [
    {
     "name": "stdout",
     "output_type": "stream",
     "text": [
      "        id_assessment  id_student  date_submitted  is_banked score\n",
      "58822           24295      335914              21          0    78\n",
      "158625          34910      648903             235          0    65\n",
      "81731           25353      103800             207          0    41\n",
      "68200           25337      537926             116          0    15\n",
      "160473          37417      575559             171          0    80\n"
     ]
    }
   ],
   "source": [
    "#get a random sample of assessments to confirm presence of strange values\n",
    "random_sample = studentAssessment.sample(n=5, random_state=42)  \n",
    "print(random_sample)"
   ]
  },
  {
   "attachments": {},
   "cell_type": "markdown",
   "metadata": {},
   "source": [
    "the is_banked column is mostly empty, drop column."
   ]
  },
  {
   "cell_type": "code",
   "execution_count": 60,
   "metadata": {},
   "outputs": [
    {
     "data": {
      "text/plain": [
       "(173912, 5)"
      ]
     },
     "execution_count": 60,
     "metadata": {},
     "output_type": "execute_result"
    }
   ],
   "source": [
    "studentAssessment.replace(0.0, pd.NA, inplace=True)\n",
    "studentAssessment.shape"
   ]
  },
  {
   "cell_type": "code",
   "execution_count": 61,
   "metadata": {},
   "outputs": [
    {
     "name": "stdout",
     "output_type": "stream",
     "text": [
      "id_assessment          0\n",
      "id_student             0\n",
      "date_submitted        61\n",
      "is_banked         172003\n",
      "score                  0\n",
      "dtype: int64\n"
     ]
    }
   ],
   "source": [
    "# Check for missing values in student assessments\n",
    "missing_values = studentAssessment.isnull().sum()\n",
    "print(missing_values)"
   ]
  },
  {
   "cell_type": "code",
   "execution_count": 62,
   "metadata": {},
   "outputs": [
    {
     "name": "stdout",
     "output_type": "stream",
     "text": [
      "        id_assessment  id_student date_submitted is_banked score\n",
      "58822           24295      335914             21      <NA>    78\n",
      "158625          34910      648903            235      <NA>    65\n",
      "81731           25353      103800            207      <NA>    41\n",
      "68200           25337      537926            116      <NA>    15\n",
      "160473          37417      575559            171      <NA>    80\n"
     ]
    }
   ],
   "source": [
    "#get a random sample to confirm presence of strange values\n",
    "random_sample = studentAssessment.sample(n=5, random_state=42)  \n",
    "print(random_sample)\n"
   ]
  },
  {
   "cell_type": "code",
   "execution_count": 63,
   "metadata": {},
   "outputs": [
    {
     "name": "stdout",
     "output_type": "stream",
     "text": [
      "There are no occurrences of 0.0 in the 'score' column.\n"
     ]
    }
   ],
   "source": [
    "# Check if there are any occurrences of 0.0 in the 'score' column\n",
    "zero_occurrences = (studentAssessment['score'] == 0.0).any()\n",
    "\n",
    "if zero_occurrences:\n",
    "    print(\"There are occurrences of 0.0 in the 'score' column.\")\n",
    "else:\n",
    "    print(\"There are no occurrences of 0.0 in the 'score' column.\")\n"
   ]
  },
  {
   "attachments": {},
   "cell_type": "markdown",
   "metadata": {},
   "source": [
    "**studentinfo data file**"
   ]
  },
  {
   "cell_type": "code",
   "execution_count": 64,
   "metadata": {},
   "outputs": [
    {
     "data": {
      "text/plain": [
       "(32593, 12)"
      ]
     },
     "execution_count": 64,
     "metadata": {},
     "output_type": "execute_result"
    }
   ],
   "source": [
    "studentinfo.replace(0.0, pd.NA, inplace=True)\n",
    "studentinfo.replace('?', pd.NA, inplace=True)\n",
    "studentinfo.shape"
   ]
  },
  {
   "cell_type": "code",
   "execution_count": 65,
   "metadata": {},
   "outputs": [
    {
     "data": {
      "text/html": [
       "<div>\n",
       "<style scoped>\n",
       "    .dataframe tbody tr th:only-of-type {\n",
       "        vertical-align: middle;\n",
       "    }\n",
       "\n",
       "    .dataframe tbody tr th {\n",
       "        vertical-align: top;\n",
       "    }\n",
       "\n",
       "    .dataframe thead th {\n",
       "        text-align: right;\n",
       "    }\n",
       "</style>\n",
       "<table border=\"1\" class=\"dataframe\">\n",
       "  <thead>\n",
       "    <tr style=\"text-align: right;\">\n",
       "      <th></th>\n",
       "      <th>code_module</th>\n",
       "      <th>code_presentation</th>\n",
       "      <th>id_student</th>\n",
       "      <th>gender</th>\n",
       "      <th>region</th>\n",
       "      <th>highest_education</th>\n",
       "      <th>imd_band</th>\n",
       "      <th>age_band</th>\n",
       "      <th>num_of_prev_attempts</th>\n",
       "      <th>studied_credits</th>\n",
       "      <th>disability</th>\n",
       "      <th>final_result</th>\n",
       "    </tr>\n",
       "  </thead>\n",
       "  <tbody>\n",
       "    <tr>\n",
       "      <th>0</th>\n",
       "      <td>AAA</td>\n",
       "      <td>2013J</td>\n",
       "      <td>11391</td>\n",
       "      <td>M</td>\n",
       "      <td>East Anglian Region</td>\n",
       "      <td>HE Qualification</td>\n",
       "      <td>90-100%</td>\n",
       "      <td>55&lt;=</td>\n",
       "      <td>&lt;NA&gt;</td>\n",
       "      <td>240</td>\n",
       "      <td>N</td>\n",
       "      <td>Pass</td>\n",
       "    </tr>\n",
       "    <tr>\n",
       "      <th>1</th>\n",
       "      <td>AAA</td>\n",
       "      <td>2013J</td>\n",
       "      <td>28400</td>\n",
       "      <td>F</td>\n",
       "      <td>Scotland</td>\n",
       "      <td>HE Qualification</td>\n",
       "      <td>20-30%</td>\n",
       "      <td>35-55</td>\n",
       "      <td>&lt;NA&gt;</td>\n",
       "      <td>60</td>\n",
       "      <td>N</td>\n",
       "      <td>Pass</td>\n",
       "    </tr>\n",
       "    <tr>\n",
       "      <th>2</th>\n",
       "      <td>AAA</td>\n",
       "      <td>2013J</td>\n",
       "      <td>30268</td>\n",
       "      <td>F</td>\n",
       "      <td>North Western Region</td>\n",
       "      <td>A Level or Equivalent</td>\n",
       "      <td>30-40%</td>\n",
       "      <td>35-55</td>\n",
       "      <td>&lt;NA&gt;</td>\n",
       "      <td>60</td>\n",
       "      <td>Y</td>\n",
       "      <td>Withdrawn</td>\n",
       "    </tr>\n",
       "    <tr>\n",
       "      <th>3</th>\n",
       "      <td>AAA</td>\n",
       "      <td>2013J</td>\n",
       "      <td>31604</td>\n",
       "      <td>F</td>\n",
       "      <td>South East Region</td>\n",
       "      <td>A Level or Equivalent</td>\n",
       "      <td>50-60%</td>\n",
       "      <td>35-55</td>\n",
       "      <td>&lt;NA&gt;</td>\n",
       "      <td>60</td>\n",
       "      <td>N</td>\n",
       "      <td>Pass</td>\n",
       "    </tr>\n",
       "    <tr>\n",
       "      <th>4</th>\n",
       "      <td>AAA</td>\n",
       "      <td>2013J</td>\n",
       "      <td>32885</td>\n",
       "      <td>F</td>\n",
       "      <td>West Midlands Region</td>\n",
       "      <td>Lower Than A Level</td>\n",
       "      <td>50-60%</td>\n",
       "      <td>0-35</td>\n",
       "      <td>&lt;NA&gt;</td>\n",
       "      <td>60</td>\n",
       "      <td>N</td>\n",
       "      <td>Pass</td>\n",
       "    </tr>\n",
       "  </tbody>\n",
       "</table>\n",
       "</div>"
      ],
      "text/plain": [
       "  code_module code_presentation  id_student gender                region  \\\n",
       "0         AAA             2013J       11391      M   East Anglian Region   \n",
       "1         AAA             2013J       28400      F              Scotland   \n",
       "2         AAA             2013J       30268      F  North Western Region   \n",
       "3         AAA             2013J       31604      F     South East Region   \n",
       "4         AAA             2013J       32885      F  West Midlands Region   \n",
       "\n",
       "       highest_education imd_band age_band num_of_prev_attempts  \\\n",
       "0       HE Qualification  90-100%     55<=                 <NA>   \n",
       "1       HE Qualification   20-30%    35-55                 <NA>   \n",
       "2  A Level or Equivalent   30-40%    35-55                 <NA>   \n",
       "3  A Level or Equivalent   50-60%    35-55                 <NA>   \n",
       "4     Lower Than A Level   50-60%     0-35                 <NA>   \n",
       "\n",
       "   studied_credits disability final_result  \n",
       "0              240          N         Pass  \n",
       "1               60          N         Pass  \n",
       "2               60          Y    Withdrawn  \n",
       "3               60          N         Pass  \n",
       "4               60          N         Pass  "
      ]
     },
     "execution_count": 65,
     "metadata": {},
     "output_type": "execute_result"
    }
   ],
   "source": [
    "studentinfo.head()"
   ]
  },
  {
   "cell_type": "code",
   "execution_count": 66,
   "metadata": {},
   "outputs": [
    {
     "name": "stdout",
     "output_type": "stream",
     "text": [
      "code_module                 0\n",
      "code_presentation           0\n",
      "id_student                  0\n",
      "gender                      0\n",
      "region                      0\n",
      "highest_education           0\n",
      "imd_band                 1111\n",
      "age_band                    0\n",
      "num_of_prev_attempts    28421\n",
      "studied_credits             0\n",
      "disability                  0\n",
      "final_result                0\n",
      "dtype: int64\n"
     ]
    }
   ],
   "source": [
    "# Check for missing values\n",
    "missing_values = studentinfo.isnull().sum()\n",
    "print(missing_values)"
   ]
  },
  {
   "cell_type": "code",
   "execution_count": 67,
   "metadata": {},
   "outputs": [
    {
     "name": "stdout",
     "output_type": "stream",
     "text": [
      "      code_module code_presentation  id_student gender                region  \\\n",
      "21105         EEE             2014B     2632165      M                 Wales   \n",
      "30047         FFF             2014J     2678580      M  North Western Region   \n",
      "7302          BBB             2014J      642122      F              Scotland   \n",
      "12840         CCC             2014J     1101190      M  North Western Region   \n",
      "29147         FFF             2014J      656579      F     South West Region   \n",
      "\n",
      "           highest_education imd_band age_band num_of_prev_attempts  \\\n",
      "21105  A Level or Equivalent   70-80%     0-35                 <NA>   \n",
      "30047  A Level or Equivalent   60-70%     0-35                 <NA>   \n",
      "7302        HE Qualification   20-30%    35-55                 <NA>   \n",
      "12840       HE Qualification   30-40%    35-55                 <NA>   \n",
      "29147  A Level or Equivalent   50-60%     0-35                 <NA>   \n",
      "\n",
      "       studied_credits disability final_result  \n",
      "21105               60          N         Pass  \n",
      "30047               60          N    Withdrawn  \n",
      "7302                60          N         Pass  \n",
      "12840               60          N         Pass  \n",
      "29147               60          N  Distinction  \n"
     ]
    }
   ],
   "source": [
    "#get a random sample to confirm presence of strange values\n",
    "random_sample = studentinfo.sample(n=5, random_state=42)  \n",
    "print(random_sample)\n"
   ]
  },
  {
   "cell_type": "code",
   "execution_count": 68,
   "metadata": {},
   "outputs": [
    {
     "data": {
      "text/plain": [
       "32593"
      ]
     },
     "execution_count": 68,
     "metadata": {},
     "output_type": "execute_result"
    }
   ],
   "source": [
    "studentinfo['imd_band'].isnull().shape[0]"
   ]
  },
  {
   "attachments": {},
   "cell_type": "markdown",
   "metadata": {},
   "source": [
    "**vle data file**"
   ]
  },
  {
   "cell_type": "code",
   "execution_count": 69,
   "metadata": {},
   "outputs": [
    {
     "data": {
      "text/plain": [
       "(6364, 6)"
      ]
     },
     "execution_count": 69,
     "metadata": {},
     "output_type": "execute_result"
    }
   ],
   "source": [
    "vle.replace(0.0, pd.NA, inplace=True)\n",
    "vle.replace('?', pd.NA, inplace=True)\n",
    "vle.shape"
   ]
  },
  {
   "cell_type": "code",
   "execution_count": 70,
   "metadata": {},
   "outputs": [
    {
     "data": {
      "text/html": [
       "<div>\n",
       "<style scoped>\n",
       "    .dataframe tbody tr th:only-of-type {\n",
       "        vertical-align: middle;\n",
       "    }\n",
       "\n",
       "    .dataframe tbody tr th {\n",
       "        vertical-align: top;\n",
       "    }\n",
       "\n",
       "    .dataframe thead th {\n",
       "        text-align: right;\n",
       "    }\n",
       "</style>\n",
       "<table border=\"1\" class=\"dataframe\">\n",
       "  <thead>\n",
       "    <tr style=\"text-align: right;\">\n",
       "      <th></th>\n",
       "      <th>id_site</th>\n",
       "      <th>code_module</th>\n",
       "      <th>code_presentation</th>\n",
       "      <th>activity_type</th>\n",
       "      <th>week_from</th>\n",
       "      <th>week_to</th>\n",
       "    </tr>\n",
       "  </thead>\n",
       "  <tbody>\n",
       "    <tr>\n",
       "      <th>0</th>\n",
       "      <td>546943</td>\n",
       "      <td>AAA</td>\n",
       "      <td>2013J</td>\n",
       "      <td>resource</td>\n",
       "      <td>&lt;NA&gt;</td>\n",
       "      <td>&lt;NA&gt;</td>\n",
       "    </tr>\n",
       "    <tr>\n",
       "      <th>1</th>\n",
       "      <td>546712</td>\n",
       "      <td>AAA</td>\n",
       "      <td>2013J</td>\n",
       "      <td>oucontent</td>\n",
       "      <td>&lt;NA&gt;</td>\n",
       "      <td>&lt;NA&gt;</td>\n",
       "    </tr>\n",
       "    <tr>\n",
       "      <th>2</th>\n",
       "      <td>546998</td>\n",
       "      <td>AAA</td>\n",
       "      <td>2013J</td>\n",
       "      <td>resource</td>\n",
       "      <td>&lt;NA&gt;</td>\n",
       "      <td>&lt;NA&gt;</td>\n",
       "    </tr>\n",
       "    <tr>\n",
       "      <th>3</th>\n",
       "      <td>546888</td>\n",
       "      <td>AAA</td>\n",
       "      <td>2013J</td>\n",
       "      <td>url</td>\n",
       "      <td>&lt;NA&gt;</td>\n",
       "      <td>&lt;NA&gt;</td>\n",
       "    </tr>\n",
       "    <tr>\n",
       "      <th>4</th>\n",
       "      <td>547035</td>\n",
       "      <td>AAA</td>\n",
       "      <td>2013J</td>\n",
       "      <td>resource</td>\n",
       "      <td>&lt;NA&gt;</td>\n",
       "      <td>&lt;NA&gt;</td>\n",
       "    </tr>\n",
       "  </tbody>\n",
       "</table>\n",
       "</div>"
      ],
      "text/plain": [
       "   id_site code_module code_presentation activity_type week_from week_to\n",
       "0   546943         AAA             2013J      resource      <NA>    <NA>\n",
       "1   546712         AAA             2013J     oucontent      <NA>    <NA>\n",
       "2   546998         AAA             2013J      resource      <NA>    <NA>\n",
       "3   546888         AAA             2013J           url      <NA>    <NA>\n",
       "4   547035         AAA             2013J      resource      <NA>    <NA>"
      ]
     },
     "execution_count": 70,
     "metadata": {},
     "output_type": "execute_result"
    }
   ],
   "source": [
    "vle.head()"
   ]
  },
  {
   "attachments": {},
   "cell_type": "markdown",
   "metadata": {},
   "source": [
    "this shows missing data in the week_from and week_to columns\n"
   ]
  },
  {
   "attachments": {},
   "cell_type": "markdown",
   "metadata": {},
   "source": [
    "week_from and week_to tell us the timeframe certain contents are supposed to be used. Unfortunately, over 82% of this content is missing from the dataset."
   ]
  },
  {
   "cell_type": "code",
   "execution_count": 71,
   "metadata": {},
   "outputs": [
    {
     "name": "stdout",
     "output_type": "stream",
     "text": [
      "id_site                 0\n",
      "code_module             0\n",
      "code_presentation       0\n",
      "activity_type           0\n",
      "week_from            5243\n",
      "week_to              5243\n",
      "dtype: int64\n"
     ]
    }
   ],
   "source": [
    "# Check for missing values\n",
    "missing_values = vle.isnull().sum()\n",
    "print(missing_values)"
   ]
  },
  {
   "attachments": {},
   "cell_type": "markdown",
   "metadata": {},
   "source": [
    " **studentRegistration data file**"
   ]
  },
  {
   "cell_type": "code",
   "execution_count": 72,
   "metadata": {},
   "outputs": [
    {
     "data": {
      "text/plain": [
       "(32593, 5)"
      ]
     },
     "execution_count": 72,
     "metadata": {},
     "output_type": "execute_result"
    }
   ],
   "source": [
    "studentRegistration.replace(0.0, pd.NA, inplace=True)\n",
    "studentRegistration.replace('?', pd.NA, inplace=True)\n",
    "studentRegistration.shape"
   ]
  },
  {
   "cell_type": "code",
   "execution_count": 73,
   "metadata": {},
   "outputs": [
    {
     "data": {
      "text/html": [
       "<div>\n",
       "<style scoped>\n",
       "    .dataframe tbody tr th:only-of-type {\n",
       "        vertical-align: middle;\n",
       "    }\n",
       "\n",
       "    .dataframe tbody tr th {\n",
       "        vertical-align: top;\n",
       "    }\n",
       "\n",
       "    .dataframe thead th {\n",
       "        text-align: right;\n",
       "    }\n",
       "</style>\n",
       "<table border=\"1\" class=\"dataframe\">\n",
       "  <thead>\n",
       "    <tr style=\"text-align: right;\">\n",
       "      <th></th>\n",
       "      <th>code_module</th>\n",
       "      <th>code_presentation</th>\n",
       "      <th>id_student</th>\n",
       "      <th>date_registration</th>\n",
       "      <th>date_unregistration</th>\n",
       "    </tr>\n",
       "  </thead>\n",
       "  <tbody>\n",
       "    <tr>\n",
       "      <th>0</th>\n",
       "      <td>AAA</td>\n",
       "      <td>2013J</td>\n",
       "      <td>11391</td>\n",
       "      <td>-159</td>\n",
       "      <td>&lt;NA&gt;</td>\n",
       "    </tr>\n",
       "    <tr>\n",
       "      <th>1</th>\n",
       "      <td>AAA</td>\n",
       "      <td>2013J</td>\n",
       "      <td>28400</td>\n",
       "      <td>-53</td>\n",
       "      <td>&lt;NA&gt;</td>\n",
       "    </tr>\n",
       "    <tr>\n",
       "      <th>2</th>\n",
       "      <td>AAA</td>\n",
       "      <td>2013J</td>\n",
       "      <td>30268</td>\n",
       "      <td>-92</td>\n",
       "      <td>12</td>\n",
       "    </tr>\n",
       "    <tr>\n",
       "      <th>3</th>\n",
       "      <td>AAA</td>\n",
       "      <td>2013J</td>\n",
       "      <td>31604</td>\n",
       "      <td>-52</td>\n",
       "      <td>&lt;NA&gt;</td>\n",
       "    </tr>\n",
       "    <tr>\n",
       "      <th>4</th>\n",
       "      <td>AAA</td>\n",
       "      <td>2013J</td>\n",
       "      <td>32885</td>\n",
       "      <td>-176</td>\n",
       "      <td>&lt;NA&gt;</td>\n",
       "    </tr>\n",
       "  </tbody>\n",
       "</table>\n",
       "</div>"
      ],
      "text/plain": [
       "  code_module code_presentation  id_student date_registration  \\\n",
       "0         AAA             2013J       11391              -159   \n",
       "1         AAA             2013J       28400               -53   \n",
       "2         AAA             2013J       30268               -92   \n",
       "3         AAA             2013J       31604               -52   \n",
       "4         AAA             2013J       32885              -176   \n",
       "\n",
       "  date_unregistration  \n",
       "0                <NA>  \n",
       "1                <NA>  \n",
       "2                  12  \n",
       "3                <NA>  \n",
       "4                <NA>  "
      ]
     },
     "execution_count": 73,
     "metadata": {},
     "output_type": "execute_result"
    }
   ],
   "source": [
    "studentRegistration.head()"
   ]
  },
  {
   "cell_type": "code",
   "execution_count": 74,
   "metadata": {},
   "outputs": [
    {
     "name": "stdout",
     "output_type": "stream",
     "text": [
      "code_module                0\n",
      "code_presentation          0\n",
      "id_student                 0\n",
      "date_registration         45\n",
      "date_unregistration    22521\n",
      "dtype: int64\n"
     ]
    }
   ],
   "source": [
    "# Check for missing values\n",
    "missing_values = studentRegistration.isnull().sum()\n",
    "print(missing_values)"
   ]
  },
  {
   "attachments": {},
   "cell_type": "markdown",
   "metadata": {},
   "source": [
    "There are a decent amount of students who withdrew from a course before it started. We will remove these students from our dataset later, since we don't have any academic performance data for them."
   ]
  },
  {
   "attachments": {},
   "cell_type": "markdown",
   "metadata": {},
   "source": [
    "**Studentvle file**"
   ]
  },
  {
   "cell_type": "code",
   "execution_count": 75,
   "metadata": {},
   "outputs": [
    {
     "data": {
      "text/plain": [
       "(999999, 6)"
      ]
     },
     "execution_count": 75,
     "metadata": {},
     "output_type": "execute_result"
    }
   ],
   "source": [
    "studentVle.replace(0.0, pd.NA, inplace=True)\n",
    "studentVle.replace('?', pd.NA, inplace=True)\n",
    "studentVle.shape"
   ]
  },
  {
   "cell_type": "code",
   "execution_count": 76,
   "metadata": {},
   "outputs": [
    {
     "name": "stdout",
     "output_type": "stream",
     "text": [
      "code_module             0\n",
      "code_presentation       0\n",
      "id_student              0\n",
      "id_site                 0\n",
      "date                 7770\n",
      "sum_click               0\n",
      "dtype: int64\n"
     ]
    }
   ],
   "source": [
    "# Check for missing values\n",
    "missing_values = studentVle.isnull().sum()\n",
    "print(missing_values)"
   ]
  },
  {
   "cell_type": "code",
   "execution_count": 77,
   "metadata": {},
   "outputs": [
    {
     "name": "stdout",
     "output_type": "stream",
     "text": [
      "       code_module code_presentation  id_student  id_site date  sum_click\n",
      "987230         BBB             2013J      301987   703732   97          6\n",
      "79954          AAA             2013J     1765788   546732   80         17\n",
      "567130         BBB             2013B      446856   542864   80          3\n",
      "500891         BBB             2013B      108589   543020   44          2\n",
      "55399          AAA             2013J     1626710   547000   42          1\n"
     ]
    }
   ],
   "source": [
    "random_sample = studentVle.sample(n=5, random_state=42)  \n",
    "\n",
    "print(random_sample)\n"
   ]
  },
  {
   "attachments": {},
   "cell_type": "markdown",
   "metadata": {},
   "source": [
    "**HANDLING MISSING VALUES**"
   ]
  },
  {
   "attachments": {},
   "cell_type": "markdown",
   "metadata": {},
   "source": [
    "Create seven lists, each containing the column names of different DataFrames."
   ]
  },
  {
   "cell_type": "code",
   "execution_count": 78,
   "metadata": {},
   "outputs": [],
   "source": [
    "set1 = list(assessments.columns.values)\n",
    "set2 = list(courses.columns.values)\n",
    "set3 = list(studentAssessment.columns.values)\n",
    "set4 = list(studentinfo.columns.values)\n",
    "set5 = list(studentRegistration.columns.values)\n",
    "set6 = list(studentVle.columns.values)\n",
    "set7 = list(vle.columns.values)"
   ]
  },
  {
   "cell_type": "code",
   "execution_count": 79,
   "metadata": {},
   "outputs": [],
   "source": [
    "all_columns = [set1, set2, set3, set4, set5, set6, set7]\n",
    "columns_count = [assessments.shape,courses.shape,studentAssessment.shape, studentinfo.shape, studentRegistration.shape, studentVle.shape, vle.shape]\n",
    "columns_header = ['assessments', 'courses', 'studentAssessment', 'studentInfo', 'studentRegistration', 'studentVle', 'vle' ]"
   ]
  },
  {
   "attachments": {},
   "cell_type": "markdown",
   "metadata": {},
   "source": [
    "Creates a dictionary named d with three keys: \n",
    "'Table Name', \n",
    "'Rows, Columns', and \n",
    "'Column Names'.  As defined above."
   ]
  },
  {
   "cell_type": "code",
   "execution_count": 80,
   "metadata": {},
   "outputs": [],
   "source": [
    "d = {'Table Name':columns_header,'Rows, Columns': columns_count,'Column Names':all_columns}"
   ]
  },
  {
   "cell_type": "code",
   "execution_count": 81,
   "metadata": {},
   "outputs": [],
   "source": [
    "df = pd.set_option('max_colwidth', 200)\n",
    "df = pd.DataFrame(d)"
   ]
  },
  {
   "cell_type": "code",
   "execution_count": 82,
   "metadata": {},
   "outputs": [
    {
     "data": {
      "text/html": [
       "<div>\n",
       "<style scoped>\n",
       "    .dataframe tbody tr th:only-of-type {\n",
       "        vertical-align: middle;\n",
       "    }\n",
       "\n",
       "    .dataframe tbody tr th {\n",
       "        vertical-align: top;\n",
       "    }\n",
       "\n",
       "    .dataframe thead th {\n",
       "        text-align: right;\n",
       "    }\n",
       "</style>\n",
       "<table border=\"1\" class=\"dataframe\">\n",
       "  <thead>\n",
       "    <tr style=\"text-align: right;\">\n",
       "      <th></th>\n",
       "      <th>Table Name</th>\n",
       "      <th>Rows, Columns</th>\n",
       "      <th>Column Names</th>\n",
       "    </tr>\n",
       "  </thead>\n",
       "  <tbody>\n",
       "    <tr>\n",
       "      <th>0</th>\n",
       "      <td>assessments</td>\n",
       "      <td>(206, 6)</td>\n",
       "      <td>[code_module, code_presentation, id_assessment, assessment_type, date, weight]</td>\n",
       "    </tr>\n",
       "    <tr>\n",
       "      <th>1</th>\n",
       "      <td>courses</td>\n",
       "      <td>(22, 3)</td>\n",
       "      <td>[code_module, code_presentation, module_presentation_length]</td>\n",
       "    </tr>\n",
       "    <tr>\n",
       "      <th>2</th>\n",
       "      <td>studentAssessment</td>\n",
       "      <td>(173912, 5)</td>\n",
       "      <td>[id_assessment, id_student, date_submitted, is_banked, score]</td>\n",
       "    </tr>\n",
       "    <tr>\n",
       "      <th>3</th>\n",
       "      <td>studentInfo</td>\n",
       "      <td>(32593, 12)</td>\n",
       "      <td>[code_module, code_presentation, id_student, gender, region, highest_education, imd_band, age_band, num_of_prev_attempts, studied_credits, disability, final_result]</td>\n",
       "    </tr>\n",
       "    <tr>\n",
       "      <th>4</th>\n",
       "      <td>studentRegistration</td>\n",
       "      <td>(32593, 5)</td>\n",
       "      <td>[code_module, code_presentation, id_student, date_registration, date_unregistration]</td>\n",
       "    </tr>\n",
       "    <tr>\n",
       "      <th>5</th>\n",
       "      <td>studentVle</td>\n",
       "      <td>(999999, 6)</td>\n",
       "      <td>[code_module, code_presentation, id_student, id_site, date, sum_click]</td>\n",
       "    </tr>\n",
       "    <tr>\n",
       "      <th>6</th>\n",
       "      <td>vle</td>\n",
       "      <td>(6364, 6)</td>\n",
       "      <td>[id_site, code_module, code_presentation, activity_type, week_from, week_to]</td>\n",
       "    </tr>\n",
       "  </tbody>\n",
       "</table>\n",
       "</div>"
      ],
      "text/plain": [
       "            Table Name Rows, Columns  \\\n",
       "0          assessments      (206, 6)   \n",
       "1              courses       (22, 3)   \n",
       "2    studentAssessment   (173912, 5)   \n",
       "3          studentInfo   (32593, 12)   \n",
       "4  studentRegistration    (32593, 5)   \n",
       "5           studentVle   (999999, 6)   \n",
       "6                  vle     (6364, 6)   \n",
       "\n",
       "                                                                                                                                                           Column Names  \n",
       "0                                                                                        [code_module, code_presentation, id_assessment, assessment_type, date, weight]  \n",
       "1                                                                                                          [code_module, code_presentation, module_presentation_length]  \n",
       "2                                                                                                         [id_assessment, id_student, date_submitted, is_banked, score]  \n",
       "3  [code_module, code_presentation, id_student, gender, region, highest_education, imd_band, age_band, num_of_prev_attempts, studied_credits, disability, final_result]  \n",
       "4                                                                                  [code_module, code_presentation, id_student, date_registration, date_unregistration]  \n",
       "5                                                                                                [code_module, code_presentation, id_student, id_site, date, sum_click]  \n",
       "6                                                                                          [id_site, code_module, code_presentation, activity_type, week_from, week_to]  "
      ]
     },
     "execution_count": 82,
     "metadata": {},
     "output_type": "execute_result"
    }
   ],
   "source": [
    "df"
   ]
  },
  {
   "attachments": {},
   "cell_type": "markdown",
   "metadata": {},
   "source": [
    "Remove all missing values"
   ]
  },
  {
   "cell_type": "code",
   "execution_count": 83,
   "metadata": {},
   "outputs": [],
   "source": [
    "# Dropping all the missing values\n",
    "assessments.dropna(inplace=True)\n",
    "courses.dropna(inplace=True)\n",
    "studentAssessment.dropna(inplace=True)\n",
    "studentinfo.dropna(inplace=True)\n",
    "studentRegistration.dropna(inplace=True)\n",
    "studentVle.dropna(inplace=True)\n",
    "vle.dropna(inplace=True)"
   ]
  },
  {
   "cell_type": "code",
   "execution_count": 84,
   "metadata": {},
   "outputs": [],
   "source": [
    "columns_count = [assessments.shape,courses.shape,studentAssessment.shape, studentinfo.shape, studentRegistration.shape, studentVle.shape, vle.shape]\n",
    "d = {'Table Name':columns_header,'Rows, Columns': columns_count,'Column Names':all_columns}\n",
    "df = pd.set_option('max_colwidth', 200)\n",
    "df = pd.DataFrame(d)"
   ]
  },
  {
   "cell_type": "code",
   "execution_count": 85,
   "metadata": {},
   "outputs": [
    {
     "data": {
      "text/html": [
       "<div>\n",
       "<style scoped>\n",
       "    .dataframe tbody tr th:only-of-type {\n",
       "        vertical-align: middle;\n",
       "    }\n",
       "\n",
       "    .dataframe tbody tr th {\n",
       "        vertical-align: top;\n",
       "    }\n",
       "\n",
       "    .dataframe thead th {\n",
       "        text-align: right;\n",
       "    }\n",
       "</style>\n",
       "<table border=\"1\" class=\"dataframe\">\n",
       "  <thead>\n",
       "    <tr style=\"text-align: right;\">\n",
       "      <th></th>\n",
       "      <th>Table Name</th>\n",
       "      <th>Rows, Columns</th>\n",
       "      <th>Column Names</th>\n",
       "    </tr>\n",
       "  </thead>\n",
       "  <tbody>\n",
       "    <tr>\n",
       "      <th>0</th>\n",
       "      <td>assessments</td>\n",
       "      <td>(139, 6)</td>\n",
       "      <td>[code_module, code_presentation, id_assessment, assessment_type, date, weight]</td>\n",
       "    </tr>\n",
       "    <tr>\n",
       "      <th>1</th>\n",
       "      <td>courses</td>\n",
       "      <td>(22, 3)</td>\n",
       "      <td>[code_module, code_presentation, module_presentation_length]</td>\n",
       "    </tr>\n",
       "    <tr>\n",
       "      <th>2</th>\n",
       "      <td>studentAssessment</td>\n",
       "      <td>(1909, 5)</td>\n",
       "      <td>[id_assessment, id_student, date_submitted, is_banked, score]</td>\n",
       "    </tr>\n",
       "    <tr>\n",
       "      <th>3</th>\n",
       "      <td>studentInfo</td>\n",
       "      <td>(4051, 12)</td>\n",
       "      <td>[code_module, code_presentation, id_student, gender, region, highest_education, imd_band, age_band, num_of_prev_attempts, studied_credits, disability, final_result]</td>\n",
       "    </tr>\n",
       "    <tr>\n",
       "      <th>4</th>\n",
       "      <td>studentRegistration</td>\n",
       "      <td>(10033, 5)</td>\n",
       "      <td>[code_module, code_presentation, id_student, date_registration, date_unregistration]</td>\n",
       "    </tr>\n",
       "    <tr>\n",
       "      <th>5</th>\n",
       "      <td>studentVle</td>\n",
       "      <td>(992229, 6)</td>\n",
       "      <td>[code_module, code_presentation, id_student, id_site, date, sum_click]</td>\n",
       "    </tr>\n",
       "    <tr>\n",
       "      <th>6</th>\n",
       "      <td>vle</td>\n",
       "      <td>(1121, 6)</td>\n",
       "      <td>[id_site, code_module, code_presentation, activity_type, week_from, week_to]</td>\n",
       "    </tr>\n",
       "  </tbody>\n",
       "</table>\n",
       "</div>"
      ],
      "text/plain": [
       "            Table Name Rows, Columns  \\\n",
       "0          assessments      (139, 6)   \n",
       "1              courses       (22, 3)   \n",
       "2    studentAssessment     (1909, 5)   \n",
       "3          studentInfo    (4051, 12)   \n",
       "4  studentRegistration    (10033, 5)   \n",
       "5           studentVle   (992229, 6)   \n",
       "6                  vle     (1121, 6)   \n",
       "\n",
       "                                                                                                                                                           Column Names  \n",
       "0                                                                                        [code_module, code_presentation, id_assessment, assessment_type, date, weight]  \n",
       "1                                                                                                          [code_module, code_presentation, module_presentation_length]  \n",
       "2                                                                                                         [id_assessment, id_student, date_submitted, is_banked, score]  \n",
       "3  [code_module, code_presentation, id_student, gender, region, highest_education, imd_band, age_band, num_of_prev_attempts, studied_credits, disability, final_result]  \n",
       "4                                                                                  [code_module, code_presentation, id_student, date_registration, date_unregistration]  \n",
       "5                                                                                                [code_module, code_presentation, id_student, id_site, date, sum_click]  \n",
       "6                                                                                          [id_site, code_module, code_presentation, activity_type, week_from, week_to]  "
      ]
     },
     "execution_count": 85,
     "metadata": {},
     "output_type": "execute_result"
    }
   ],
   "source": [
    "df"
   ]
  },
  {
   "attachments": {},
   "cell_type": "markdown",
   "metadata": {},
   "source": [
    "For removing missing values, there are chnages in mumber of rows"
   ]
  },
  {
   "attachments": {},
   "cell_type": "markdown",
   "metadata": {},
   "source": [
    "**MERGING DATAFRAMES**"
   ]
  },
  {
   "cell_type": "code",
   "execution_count": 86,
   "metadata": {},
   "outputs": [
    {
     "data": {
      "text/plain": [
       "final_result\n",
       "Withdrawn      1151\n",
       "Fail            669\n",
       "Pass            459\n",
       "Distinction      47\n",
       "Name: count, dtype: int64"
      ]
     },
     "execution_count": 86,
     "metadata": {},
     "output_type": "execute_result"
    }
   ],
   "source": [
    "from functools import reduce\n",
    "dfs = [studentAssessment, studentinfo, studentRegistration]\n",
    "df_final = reduce(lambda left,right: pd.merge(left,right,on='id_student'), dfs)\n",
    "df_final['final_result'].value_counts()"
   ]
  },
  {
   "cell_type": "code",
   "execution_count": 87,
   "metadata": {},
   "outputs": [
    {
     "data": {
      "text/html": [
       "<div>\n",
       "<style scoped>\n",
       "    .dataframe tbody tr th:only-of-type {\n",
       "        vertical-align: middle;\n",
       "    }\n",
       "\n",
       "    .dataframe tbody tr th {\n",
       "        vertical-align: top;\n",
       "    }\n",
       "\n",
       "    .dataframe thead th {\n",
       "        text-align: right;\n",
       "    }\n",
       "</style>\n",
       "<table border=\"1\" class=\"dataframe\">\n",
       "  <thead>\n",
       "    <tr style=\"text-align: right;\">\n",
       "      <th></th>\n",
       "      <th>id_assessment</th>\n",
       "      <th>id_student</th>\n",
       "      <th>date_submitted</th>\n",
       "      <th>is_banked</th>\n",
       "      <th>score</th>\n",
       "      <th>code_module_x</th>\n",
       "      <th>code_presentation_x</th>\n",
       "      <th>gender</th>\n",
       "      <th>region</th>\n",
       "      <th>highest_education</th>\n",
       "      <th>imd_band</th>\n",
       "      <th>age_band</th>\n",
       "      <th>num_of_prev_attempts</th>\n",
       "      <th>studied_credits</th>\n",
       "      <th>disability</th>\n",
       "      <th>final_result</th>\n",
       "      <th>code_module_y</th>\n",
       "      <th>code_presentation_y</th>\n",
       "      <th>date_registration</th>\n",
       "      <th>date_unregistration</th>\n",
       "    </tr>\n",
       "  </thead>\n",
       "  <tbody>\n",
       "    <tr>\n",
       "      <th>0</th>\n",
       "      <td>1758</td>\n",
       "      <td>1970390</td>\n",
       "      <td>-1</td>\n",
       "      <td>1</td>\n",
       "      <td>78</td>\n",
       "      <td>AAA</td>\n",
       "      <td>2014J</td>\n",
       "      <td>M</td>\n",
       "      <td>West Midlands Region</td>\n",
       "      <td>Lower Than A Level</td>\n",
       "      <td>0-10%</td>\n",
       "      <td>35-55</td>\n",
       "      <td>1</td>\n",
       "      <td>120</td>\n",
       "      <td>N</td>\n",
       "      <td>Pass</td>\n",
       "      <td>AAA</td>\n",
       "      <td>2013J</td>\n",
       "      <td>-108</td>\n",
       "      <td>240</td>\n",
       "    </tr>\n",
       "    <tr>\n",
       "      <th>1</th>\n",
       "      <td>1759</td>\n",
       "      <td>1970390</td>\n",
       "      <td>-1</td>\n",
       "      <td>1</td>\n",
       "      <td>90</td>\n",
       "      <td>AAA</td>\n",
       "      <td>2014J</td>\n",
       "      <td>M</td>\n",
       "      <td>West Midlands Region</td>\n",
       "      <td>Lower Than A Level</td>\n",
       "      <td>0-10%</td>\n",
       "      <td>35-55</td>\n",
       "      <td>1</td>\n",
       "      <td>120</td>\n",
       "      <td>N</td>\n",
       "      <td>Pass</td>\n",
       "      <td>AAA</td>\n",
       "      <td>2013J</td>\n",
       "      <td>-108</td>\n",
       "      <td>240</td>\n",
       "    </tr>\n",
       "    <tr>\n",
       "      <th>2</th>\n",
       "      <td>1760</td>\n",
       "      <td>1970390</td>\n",
       "      <td>-1</td>\n",
       "      <td>1</td>\n",
       "      <td>90</td>\n",
       "      <td>AAA</td>\n",
       "      <td>2014J</td>\n",
       "      <td>M</td>\n",
       "      <td>West Midlands Region</td>\n",
       "      <td>Lower Than A Level</td>\n",
       "      <td>0-10%</td>\n",
       "      <td>35-55</td>\n",
       "      <td>1</td>\n",
       "      <td>120</td>\n",
       "      <td>N</td>\n",
       "      <td>Pass</td>\n",
       "      <td>AAA</td>\n",
       "      <td>2013J</td>\n",
       "      <td>-108</td>\n",
       "      <td>240</td>\n",
       "    </tr>\n",
       "    <tr>\n",
       "      <th>3</th>\n",
       "      <td>1761</td>\n",
       "      <td>1970390</td>\n",
       "      <td>-1</td>\n",
       "      <td>1</td>\n",
       "      <td>80</td>\n",
       "      <td>AAA</td>\n",
       "      <td>2014J</td>\n",
       "      <td>M</td>\n",
       "      <td>West Midlands Region</td>\n",
       "      <td>Lower Than A Level</td>\n",
       "      <td>0-10%</td>\n",
       "      <td>35-55</td>\n",
       "      <td>1</td>\n",
       "      <td>120</td>\n",
       "      <td>N</td>\n",
       "      <td>Pass</td>\n",
       "      <td>AAA</td>\n",
       "      <td>2013J</td>\n",
       "      <td>-108</td>\n",
       "      <td>240</td>\n",
       "    </tr>\n",
       "    <tr>\n",
       "      <th>4</th>\n",
       "      <td>1762</td>\n",
       "      <td>1970390</td>\n",
       "      <td>-1</td>\n",
       "      <td>1</td>\n",
       "      <td>80</td>\n",
       "      <td>AAA</td>\n",
       "      <td>2014J</td>\n",
       "      <td>M</td>\n",
       "      <td>West Midlands Region</td>\n",
       "      <td>Lower Than A Level</td>\n",
       "      <td>0-10%</td>\n",
       "      <td>35-55</td>\n",
       "      <td>1</td>\n",
       "      <td>120</td>\n",
       "      <td>N</td>\n",
       "      <td>Pass</td>\n",
       "      <td>AAA</td>\n",
       "      <td>2013J</td>\n",
       "      <td>-108</td>\n",
       "      <td>240</td>\n",
       "    </tr>\n",
       "    <tr>\n",
       "      <th>...</th>\n",
       "      <td>...</td>\n",
       "      <td>...</td>\n",
       "      <td>...</td>\n",
       "      <td>...</td>\n",
       "      <td>...</td>\n",
       "      <td>...</td>\n",
       "      <td>...</td>\n",
       "      <td>...</td>\n",
       "      <td>...</td>\n",
       "      <td>...</td>\n",
       "      <td>...</td>\n",
       "      <td>...</td>\n",
       "      <td>...</td>\n",
       "      <td>...</td>\n",
       "      <td>...</td>\n",
       "      <td>...</td>\n",
       "      <td>...</td>\n",
       "      <td>...</td>\n",
       "      <td>...</td>\n",
       "      <td>...</td>\n",
       "    </tr>\n",
       "    <tr>\n",
       "      <th>2321</th>\n",
       "      <td>37437</td>\n",
       "      <td>631446</td>\n",
       "      <td>-1</td>\n",
       "      <td>1</td>\n",
       "      <td>64</td>\n",
       "      <td>GGG</td>\n",
       "      <td>2014J</td>\n",
       "      <td>F</td>\n",
       "      <td>East Anglian Region</td>\n",
       "      <td>HE Qualification</td>\n",
       "      <td>90-100%</td>\n",
       "      <td>35-55</td>\n",
       "      <td>1</td>\n",
       "      <td>30</td>\n",
       "      <td>N</td>\n",
       "      <td>Pass</td>\n",
       "      <td>GGG</td>\n",
       "      <td>2014B</td>\n",
       "      <td>-24</td>\n",
       "      <td>219</td>\n",
       "    </tr>\n",
       "    <tr>\n",
       "      <th>2322</th>\n",
       "      <td>37438</td>\n",
       "      <td>631446</td>\n",
       "      <td>-1</td>\n",
       "      <td>1</td>\n",
       "      <td>100</td>\n",
       "      <td>GGG</td>\n",
       "      <td>2014J</td>\n",
       "      <td>F</td>\n",
       "      <td>East Anglian Region</td>\n",
       "      <td>HE Qualification</td>\n",
       "      <td>90-100%</td>\n",
       "      <td>35-55</td>\n",
       "      <td>1</td>\n",
       "      <td>30</td>\n",
       "      <td>N</td>\n",
       "      <td>Pass</td>\n",
       "      <td>GGG</td>\n",
       "      <td>2014B</td>\n",
       "      <td>-24</td>\n",
       "      <td>219</td>\n",
       "    </tr>\n",
       "    <tr>\n",
       "      <th>2323</th>\n",
       "      <td>37439</td>\n",
       "      <td>631446</td>\n",
       "      <td>-1</td>\n",
       "      <td>1</td>\n",
       "      <td>100</td>\n",
       "      <td>GGG</td>\n",
       "      <td>2014J</td>\n",
       "      <td>F</td>\n",
       "      <td>East Anglian Region</td>\n",
       "      <td>HE Qualification</td>\n",
       "      <td>90-100%</td>\n",
       "      <td>35-55</td>\n",
       "      <td>1</td>\n",
       "      <td>30</td>\n",
       "      <td>N</td>\n",
       "      <td>Pass</td>\n",
       "      <td>GGG</td>\n",
       "      <td>2014B</td>\n",
       "      <td>-24</td>\n",
       "      <td>219</td>\n",
       "    </tr>\n",
       "    <tr>\n",
       "      <th>2324</th>\n",
       "      <td>37440</td>\n",
       "      <td>631446</td>\n",
       "      <td>-1</td>\n",
       "      <td>1</td>\n",
       "      <td>100</td>\n",
       "      <td>GGG</td>\n",
       "      <td>2014J</td>\n",
       "      <td>F</td>\n",
       "      <td>East Anglian Region</td>\n",
       "      <td>HE Qualification</td>\n",
       "      <td>90-100%</td>\n",
       "      <td>35-55</td>\n",
       "      <td>1</td>\n",
       "      <td>30</td>\n",
       "      <td>N</td>\n",
       "      <td>Pass</td>\n",
       "      <td>GGG</td>\n",
       "      <td>2014B</td>\n",
       "      <td>-24</td>\n",
       "      <td>219</td>\n",
       "    </tr>\n",
       "    <tr>\n",
       "      <th>2325</th>\n",
       "      <td>37441</td>\n",
       "      <td>631446</td>\n",
       "      <td>-1</td>\n",
       "      <td>1</td>\n",
       "      <td>100</td>\n",
       "      <td>GGG</td>\n",
       "      <td>2014J</td>\n",
       "      <td>F</td>\n",
       "      <td>East Anglian Region</td>\n",
       "      <td>HE Qualification</td>\n",
       "      <td>90-100%</td>\n",
       "      <td>35-55</td>\n",
       "      <td>1</td>\n",
       "      <td>30</td>\n",
       "      <td>N</td>\n",
       "      <td>Pass</td>\n",
       "      <td>GGG</td>\n",
       "      <td>2014B</td>\n",
       "      <td>-24</td>\n",
       "      <td>219</td>\n",
       "    </tr>\n",
       "  </tbody>\n",
       "</table>\n",
       "<p>2326 rows × 20 columns</p>\n",
       "</div>"
      ],
      "text/plain": [
       "      id_assessment  id_student date_submitted is_banked score code_module_x  \\\n",
       "0              1758     1970390             -1         1    78           AAA   \n",
       "1              1759     1970390             -1         1    90           AAA   \n",
       "2              1760     1970390             -1         1    90           AAA   \n",
       "3              1761     1970390             -1         1    80           AAA   \n",
       "4              1762     1970390             -1         1    80           AAA   \n",
       "...             ...         ...            ...       ...   ...           ...   \n",
       "2321          37437      631446             -1         1    64           GGG   \n",
       "2322          37438      631446             -1         1   100           GGG   \n",
       "2323          37439      631446             -1         1   100           GGG   \n",
       "2324          37440      631446             -1         1   100           GGG   \n",
       "2325          37441      631446             -1         1   100           GGG   \n",
       "\n",
       "     code_presentation_x gender                region   highest_education  \\\n",
       "0                  2014J      M  West Midlands Region  Lower Than A Level   \n",
       "1                  2014J      M  West Midlands Region  Lower Than A Level   \n",
       "2                  2014J      M  West Midlands Region  Lower Than A Level   \n",
       "3                  2014J      M  West Midlands Region  Lower Than A Level   \n",
       "4                  2014J      M  West Midlands Region  Lower Than A Level   \n",
       "...                  ...    ...                   ...                 ...   \n",
       "2321               2014J      F   East Anglian Region    HE Qualification   \n",
       "2322               2014J      F   East Anglian Region    HE Qualification   \n",
       "2323               2014J      F   East Anglian Region    HE Qualification   \n",
       "2324               2014J      F   East Anglian Region    HE Qualification   \n",
       "2325               2014J      F   East Anglian Region    HE Qualification   \n",
       "\n",
       "     imd_band age_band num_of_prev_attempts  studied_credits disability  \\\n",
       "0       0-10%    35-55                    1              120          N   \n",
       "1       0-10%    35-55                    1              120          N   \n",
       "2       0-10%    35-55                    1              120          N   \n",
       "3       0-10%    35-55                    1              120          N   \n",
       "4       0-10%    35-55                    1              120          N   \n",
       "...       ...      ...                  ...              ...        ...   \n",
       "2321  90-100%    35-55                    1               30          N   \n",
       "2322  90-100%    35-55                    1               30          N   \n",
       "2323  90-100%    35-55                    1               30          N   \n",
       "2324  90-100%    35-55                    1               30          N   \n",
       "2325  90-100%    35-55                    1               30          N   \n",
       "\n",
       "     final_result code_module_y code_presentation_y date_registration  \\\n",
       "0            Pass           AAA               2013J              -108   \n",
       "1            Pass           AAA               2013J              -108   \n",
       "2            Pass           AAA               2013J              -108   \n",
       "3            Pass           AAA               2013J              -108   \n",
       "4            Pass           AAA               2013J              -108   \n",
       "...           ...           ...                 ...               ...   \n",
       "2321         Pass           GGG               2014B               -24   \n",
       "2322         Pass           GGG               2014B               -24   \n",
       "2323         Pass           GGG               2014B               -24   \n",
       "2324         Pass           GGG               2014B               -24   \n",
       "2325         Pass           GGG               2014B               -24   \n",
       "\n",
       "     date_unregistration  \n",
       "0                    240  \n",
       "1                    240  \n",
       "2                    240  \n",
       "3                    240  \n",
       "4                    240  \n",
       "...                  ...  \n",
       "2321                 219  \n",
       "2322                 219  \n",
       "2323                 219  \n",
       "2324                 219  \n",
       "2325                 219  \n",
       "\n",
       "[2326 rows x 20 columns]"
      ]
     },
     "execution_count": 87,
     "metadata": {},
     "output_type": "execute_result"
    }
   ],
   "source": [
    "df_final"
   ]
  },
  {
   "cell_type": "code",
   "execution_count": 88,
   "metadata": {},
   "outputs": [],
   "source": [
    "df_final = df_final.drop(['date_registration','date_unregistration', 'id_assessment', 'id_student', 'date_submitted', 'score', 'studied_credits'],axis =1) # too many NaN values"
   ]
  },
  {
   "cell_type": "code",
   "execution_count": 89,
   "metadata": {},
   "outputs": [
    {
     "data": {
      "text/plain": [
       "final_result\n",
       "Withdrawn      1151\n",
       "Fail            669\n",
       "Pass            459\n",
       "Distinction      47\n",
       "Name: count, dtype: int64"
      ]
     },
     "execution_count": 89,
     "metadata": {},
     "output_type": "execute_result"
    }
   ],
   "source": [
    "df_final.dropna(inplace=True)\n",
    "df_final['final_result'].value_counts()"
   ]
  },
  {
   "cell_type": "code",
   "execution_count": 90,
   "metadata": {},
   "outputs": [],
   "source": [
    "#Keep a copy of the merged dataframe\n",
    "df_final_original = df_final"
   ]
  },
  {
   "cell_type": "code",
   "execution_count": 91,
   "metadata": {},
   "outputs": [
    {
     "data": {
      "text/html": [
       "<div>\n",
       "<style scoped>\n",
       "    .dataframe tbody tr th:only-of-type {\n",
       "        vertical-align: middle;\n",
       "    }\n",
       "\n",
       "    .dataframe tbody tr th {\n",
       "        vertical-align: top;\n",
       "    }\n",
       "\n",
       "    .dataframe thead th {\n",
       "        text-align: right;\n",
       "    }\n",
       "</style>\n",
       "<table border=\"1\" class=\"dataframe\">\n",
       "  <thead>\n",
       "    <tr style=\"text-align: right;\">\n",
       "      <th></th>\n",
       "      <th>is_banked</th>\n",
       "      <th>code_module_x</th>\n",
       "      <th>code_presentation_x</th>\n",
       "      <th>gender</th>\n",
       "      <th>region</th>\n",
       "      <th>highest_education</th>\n",
       "      <th>imd_band</th>\n",
       "      <th>age_band</th>\n",
       "      <th>num_of_prev_attempts</th>\n",
       "      <th>disability</th>\n",
       "      <th>final_result</th>\n",
       "      <th>code_module_y</th>\n",
       "      <th>code_presentation_y</th>\n",
       "    </tr>\n",
       "  </thead>\n",
       "  <tbody>\n",
       "    <tr>\n",
       "      <th>0</th>\n",
       "      <td>1</td>\n",
       "      <td>AAA</td>\n",
       "      <td>2014J</td>\n",
       "      <td>M</td>\n",
       "      <td>West Midlands Region</td>\n",
       "      <td>Lower Than A Level</td>\n",
       "      <td>0-10%</td>\n",
       "      <td>35-55</td>\n",
       "      <td>1</td>\n",
       "      <td>N</td>\n",
       "      <td>Pass</td>\n",
       "      <td>AAA</td>\n",
       "      <td>2013J</td>\n",
       "    </tr>\n",
       "    <tr>\n",
       "      <th>1</th>\n",
       "      <td>1</td>\n",
       "      <td>AAA</td>\n",
       "      <td>2014J</td>\n",
       "      <td>M</td>\n",
       "      <td>West Midlands Region</td>\n",
       "      <td>Lower Than A Level</td>\n",
       "      <td>0-10%</td>\n",
       "      <td>35-55</td>\n",
       "      <td>1</td>\n",
       "      <td>N</td>\n",
       "      <td>Pass</td>\n",
       "      <td>AAA</td>\n",
       "      <td>2013J</td>\n",
       "    </tr>\n",
       "    <tr>\n",
       "      <th>2</th>\n",
       "      <td>1</td>\n",
       "      <td>AAA</td>\n",
       "      <td>2014J</td>\n",
       "      <td>M</td>\n",
       "      <td>West Midlands Region</td>\n",
       "      <td>Lower Than A Level</td>\n",
       "      <td>0-10%</td>\n",
       "      <td>35-55</td>\n",
       "      <td>1</td>\n",
       "      <td>N</td>\n",
       "      <td>Pass</td>\n",
       "      <td>AAA</td>\n",
       "      <td>2013J</td>\n",
       "    </tr>\n",
       "    <tr>\n",
       "      <th>3</th>\n",
       "      <td>1</td>\n",
       "      <td>AAA</td>\n",
       "      <td>2014J</td>\n",
       "      <td>M</td>\n",
       "      <td>West Midlands Region</td>\n",
       "      <td>Lower Than A Level</td>\n",
       "      <td>0-10%</td>\n",
       "      <td>35-55</td>\n",
       "      <td>1</td>\n",
       "      <td>N</td>\n",
       "      <td>Pass</td>\n",
       "      <td>AAA</td>\n",
       "      <td>2013J</td>\n",
       "    </tr>\n",
       "    <tr>\n",
       "      <th>4</th>\n",
       "      <td>1</td>\n",
       "      <td>AAA</td>\n",
       "      <td>2014J</td>\n",
       "      <td>M</td>\n",
       "      <td>West Midlands Region</td>\n",
       "      <td>Lower Than A Level</td>\n",
       "      <td>0-10%</td>\n",
       "      <td>35-55</td>\n",
       "      <td>1</td>\n",
       "      <td>N</td>\n",
       "      <td>Pass</td>\n",
       "      <td>AAA</td>\n",
       "      <td>2013J</td>\n",
       "    </tr>\n",
       "  </tbody>\n",
       "</table>\n",
       "</div>"
      ],
      "text/plain": [
       "  is_banked code_module_x code_presentation_x gender                region  \\\n",
       "0         1           AAA               2014J      M  West Midlands Region   \n",
       "1         1           AAA               2014J      M  West Midlands Region   \n",
       "2         1           AAA               2014J      M  West Midlands Region   \n",
       "3         1           AAA               2014J      M  West Midlands Region   \n",
       "4         1           AAA               2014J      M  West Midlands Region   \n",
       "\n",
       "    highest_education imd_band age_band num_of_prev_attempts disability  \\\n",
       "0  Lower Than A Level    0-10%    35-55                    1          N   \n",
       "1  Lower Than A Level    0-10%    35-55                    1          N   \n",
       "2  Lower Than A Level    0-10%    35-55                    1          N   \n",
       "3  Lower Than A Level    0-10%    35-55                    1          N   \n",
       "4  Lower Than A Level    0-10%    35-55                    1          N   \n",
       "\n",
       "  final_result code_module_y code_presentation_y  \n",
       "0         Pass           AAA               2013J  \n",
       "1         Pass           AAA               2013J  \n",
       "2         Pass           AAA               2013J  \n",
       "3         Pass           AAA               2013J  \n",
       "4         Pass           AAA               2013J  "
      ]
     },
     "execution_count": 91,
     "metadata": {},
     "output_type": "execute_result"
    }
   ],
   "source": [
    "df_final_original.head()"
   ]
  },
  {
   "cell_type": "code",
   "execution_count": 92,
   "metadata": {},
   "outputs": [
    {
     "data": {
      "text/plain": [
       "(2326, 13)"
      ]
     },
     "execution_count": 92,
     "metadata": {},
     "output_type": "execute_result"
    }
   ],
   "source": [
    "df_final_original.shape"
   ]
  },
  {
   "cell_type": "code",
   "execution_count": 93,
   "metadata": {},
   "outputs": [],
   "source": [
    "# converting the final table to labelEncoder\n",
    "from sklearn.preprocessing import LabelEncoder\n",
    "le = LabelEncoder()\n",
    "df_final = df_final.apply(le.fit_transform)"
   ]
  },
  {
   "cell_type": "code",
   "execution_count": 94,
   "metadata": {},
   "outputs": [
    {
     "data": {
      "text/html": [
       "<div>\n",
       "<style scoped>\n",
       "    .dataframe tbody tr th:only-of-type {\n",
       "        vertical-align: middle;\n",
       "    }\n",
       "\n",
       "    .dataframe tbody tr th {\n",
       "        vertical-align: top;\n",
       "    }\n",
       "\n",
       "    .dataframe thead th {\n",
       "        text-align: right;\n",
       "    }\n",
       "</style>\n",
       "<table border=\"1\" class=\"dataframe\">\n",
       "  <thead>\n",
       "    <tr style=\"text-align: right;\">\n",
       "      <th></th>\n",
       "      <th>is_banked</th>\n",
       "      <th>code_module_x</th>\n",
       "      <th>code_presentation_x</th>\n",
       "      <th>gender</th>\n",
       "      <th>region</th>\n",
       "      <th>highest_education</th>\n",
       "      <th>imd_band</th>\n",
       "      <th>age_band</th>\n",
       "      <th>num_of_prev_attempts</th>\n",
       "      <th>disability</th>\n",
       "      <th>final_result</th>\n",
       "      <th>code_module_y</th>\n",
       "      <th>code_presentation_y</th>\n",
       "    </tr>\n",
       "  </thead>\n",
       "  <tbody>\n",
       "    <tr>\n",
       "      <th>0</th>\n",
       "      <td>0</td>\n",
       "      <td>0</td>\n",
       "      <td>3</td>\n",
       "      <td>1</td>\n",
       "      <td>11</td>\n",
       "      <td>2</td>\n",
       "      <td>0</td>\n",
       "      <td>1</td>\n",
       "      <td>0</td>\n",
       "      <td>0</td>\n",
       "      <td>2</td>\n",
       "      <td>0</td>\n",
       "      <td>1</td>\n",
       "    </tr>\n",
       "    <tr>\n",
       "      <th>1</th>\n",
       "      <td>0</td>\n",
       "      <td>0</td>\n",
       "      <td>3</td>\n",
       "      <td>1</td>\n",
       "      <td>11</td>\n",
       "      <td>2</td>\n",
       "      <td>0</td>\n",
       "      <td>1</td>\n",
       "      <td>0</td>\n",
       "      <td>0</td>\n",
       "      <td>2</td>\n",
       "      <td>0</td>\n",
       "      <td>1</td>\n",
       "    </tr>\n",
       "    <tr>\n",
       "      <th>2</th>\n",
       "      <td>0</td>\n",
       "      <td>0</td>\n",
       "      <td>3</td>\n",
       "      <td>1</td>\n",
       "      <td>11</td>\n",
       "      <td>2</td>\n",
       "      <td>0</td>\n",
       "      <td>1</td>\n",
       "      <td>0</td>\n",
       "      <td>0</td>\n",
       "      <td>2</td>\n",
       "      <td>0</td>\n",
       "      <td>1</td>\n",
       "    </tr>\n",
       "    <tr>\n",
       "      <th>3</th>\n",
       "      <td>0</td>\n",
       "      <td>0</td>\n",
       "      <td>3</td>\n",
       "      <td>1</td>\n",
       "      <td>11</td>\n",
       "      <td>2</td>\n",
       "      <td>0</td>\n",
       "      <td>1</td>\n",
       "      <td>0</td>\n",
       "      <td>0</td>\n",
       "      <td>2</td>\n",
       "      <td>0</td>\n",
       "      <td>1</td>\n",
       "    </tr>\n",
       "    <tr>\n",
       "      <th>4</th>\n",
       "      <td>0</td>\n",
       "      <td>0</td>\n",
       "      <td>3</td>\n",
       "      <td>1</td>\n",
       "      <td>11</td>\n",
       "      <td>2</td>\n",
       "      <td>0</td>\n",
       "      <td>1</td>\n",
       "      <td>0</td>\n",
       "      <td>0</td>\n",
       "      <td>2</td>\n",
       "      <td>0</td>\n",
       "      <td>1</td>\n",
       "    </tr>\n",
       "    <tr>\n",
       "      <th>...</th>\n",
       "      <td>...</td>\n",
       "      <td>...</td>\n",
       "      <td>...</td>\n",
       "      <td>...</td>\n",
       "      <td>...</td>\n",
       "      <td>...</td>\n",
       "      <td>...</td>\n",
       "      <td>...</td>\n",
       "      <td>...</td>\n",
       "      <td>...</td>\n",
       "      <td>...</td>\n",
       "      <td>...</td>\n",
       "      <td>...</td>\n",
       "    </tr>\n",
       "    <tr>\n",
       "      <th>2321</th>\n",
       "      <td>0</td>\n",
       "      <td>6</td>\n",
       "      <td>3</td>\n",
       "      <td>0</td>\n",
       "      <td>0</td>\n",
       "      <td>1</td>\n",
       "      <td>9</td>\n",
       "      <td>1</td>\n",
       "      <td>0</td>\n",
       "      <td>0</td>\n",
       "      <td>2</td>\n",
       "      <td>6</td>\n",
       "      <td>2</td>\n",
       "    </tr>\n",
       "    <tr>\n",
       "      <th>2322</th>\n",
       "      <td>0</td>\n",
       "      <td>6</td>\n",
       "      <td>3</td>\n",
       "      <td>0</td>\n",
       "      <td>0</td>\n",
       "      <td>1</td>\n",
       "      <td>9</td>\n",
       "      <td>1</td>\n",
       "      <td>0</td>\n",
       "      <td>0</td>\n",
       "      <td>2</td>\n",
       "      <td>6</td>\n",
       "      <td>2</td>\n",
       "    </tr>\n",
       "    <tr>\n",
       "      <th>2323</th>\n",
       "      <td>0</td>\n",
       "      <td>6</td>\n",
       "      <td>3</td>\n",
       "      <td>0</td>\n",
       "      <td>0</td>\n",
       "      <td>1</td>\n",
       "      <td>9</td>\n",
       "      <td>1</td>\n",
       "      <td>0</td>\n",
       "      <td>0</td>\n",
       "      <td>2</td>\n",
       "      <td>6</td>\n",
       "      <td>2</td>\n",
       "    </tr>\n",
       "    <tr>\n",
       "      <th>2324</th>\n",
       "      <td>0</td>\n",
       "      <td>6</td>\n",
       "      <td>3</td>\n",
       "      <td>0</td>\n",
       "      <td>0</td>\n",
       "      <td>1</td>\n",
       "      <td>9</td>\n",
       "      <td>1</td>\n",
       "      <td>0</td>\n",
       "      <td>0</td>\n",
       "      <td>2</td>\n",
       "      <td>6</td>\n",
       "      <td>2</td>\n",
       "    </tr>\n",
       "    <tr>\n",
       "      <th>2325</th>\n",
       "      <td>0</td>\n",
       "      <td>6</td>\n",
       "      <td>3</td>\n",
       "      <td>0</td>\n",
       "      <td>0</td>\n",
       "      <td>1</td>\n",
       "      <td>9</td>\n",
       "      <td>1</td>\n",
       "      <td>0</td>\n",
       "      <td>0</td>\n",
       "      <td>2</td>\n",
       "      <td>6</td>\n",
       "      <td>2</td>\n",
       "    </tr>\n",
       "  </tbody>\n",
       "</table>\n",
       "<p>2326 rows × 13 columns</p>\n",
       "</div>"
      ],
      "text/plain": [
       "      is_banked  code_module_x  code_presentation_x  gender  region  \\\n",
       "0             0              0                    3       1      11   \n",
       "1             0              0                    3       1      11   \n",
       "2             0              0                    3       1      11   \n",
       "3             0              0                    3       1      11   \n",
       "4             0              0                    3       1      11   \n",
       "...         ...            ...                  ...     ...     ...   \n",
       "2321          0              6                    3       0       0   \n",
       "2322          0              6                    3       0       0   \n",
       "2323          0              6                    3       0       0   \n",
       "2324          0              6                    3       0       0   \n",
       "2325          0              6                    3       0       0   \n",
       "\n",
       "      highest_education  imd_band  age_band  num_of_prev_attempts  disability  \\\n",
       "0                     2         0         1                     0           0   \n",
       "1                     2         0         1                     0           0   \n",
       "2                     2         0         1                     0           0   \n",
       "3                     2         0         1                     0           0   \n",
       "4                     2         0         1                     0           0   \n",
       "...                 ...       ...       ...                   ...         ...   \n",
       "2321                  1         9         1                     0           0   \n",
       "2322                  1         9         1                     0           0   \n",
       "2323                  1         9         1                     0           0   \n",
       "2324                  1         9         1                     0           0   \n",
       "2325                  1         9         1                     0           0   \n",
       "\n",
       "      final_result  code_module_y  code_presentation_y  \n",
       "0                2              0                    1  \n",
       "1                2              0                    1  \n",
       "2                2              0                    1  \n",
       "3                2              0                    1  \n",
       "4                2              0                    1  \n",
       "...            ...            ...                  ...  \n",
       "2321             2              6                    2  \n",
       "2322             2              6                    2  \n",
       "2323             2              6                    2  \n",
       "2324             2              6                    2  \n",
       "2325             2              6                    2  \n",
       "\n",
       "[2326 rows x 13 columns]"
      ]
     },
     "execution_count": 94,
     "metadata": {},
     "output_type": "execute_result"
    }
   ],
   "source": [
    "df_final"
   ]
  },
  {
   "cell_type": "code",
   "execution_count": 96,
   "metadata": {},
   "outputs": [],
   "source": [
    "# dropping disability (non significant)\n",
    "df_final = df_final.drop(['disability'],axis =1)\n",
    "df_final_original = df_final_original.drop(['disability'],axis =1)"
   ]
  },
  {
   "cell_type": "code",
   "execution_count": 98,
   "metadata": {},
   "outputs": [],
   "source": [
    "# Assuming df is your DataFrame\n",
    "df_final.to_csv('~/finalproject/LHL-finalProject/preprocessed_data/dataencoded.csv', index=False)\n",
    "df_final_original.to_csv('~/finalproject/LHL-finalProject/preprocessed_data/data.csv', index=False)\n"
   ]
  }
 ],
 "metadata": {
  "kernelspec": {
   "display_name": "penv",
   "language": "python",
   "name": "python3"
  },
  "language_info": {
   "codemirror_mode": {
    "name": "ipython",
    "version": 3
   },
   "file_extension": ".py",
   "mimetype": "text/x-python",
   "name": "python",
   "nbconvert_exporter": "python",
   "pygments_lexer": "ipython3",
   "version": "3.10.10"
  },
  "orig_nbformat": 4
 },
 "nbformat": 4,
 "nbformat_minor": 2
}
